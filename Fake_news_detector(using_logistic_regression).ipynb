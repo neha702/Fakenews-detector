{
  "nbformat": 4,
  "nbformat_minor": 0,
  "metadata": {
    "colab": {
      "name": "Fake news detector(using logistic regression).ipynb",
      "provenance": [],
      "collapsed_sections": [],
      "authorship_tag": "ABX9TyPfBq5dEByc5hzDNoHAUUqn",
      "include_colab_link": true
    },
    "kernelspec": {
      "display_name": "Python 3",
      "name": "python3"
    }
  },
  "cells": [
    {
      "cell_type": "markdown",
      "metadata": {
        "id": "view-in-github",
        "colab_type": "text"
      },
      "source": [
        "<a href=\"https://colab.research.google.com/github/neha702/Fakenews-detector/blob/main/Fake_news_detector(using_logistic_regression).ipynb\" target=\"_parent\"><img src=\"https://colab.research.google.com/assets/colab-badge.svg\" alt=\"Open In Colab\"/></a>"
      ]
    },
    {
      "cell_type": "code",
      "metadata": {
        "id": "1OvDW1lVUzFX"
      },
      "source": [
        "#pip install -U scikit-learn"
      ],
      "execution_count": null,
      "outputs": []
    },
    {
      "cell_type": "code",
      "metadata": {
        "id": "lcE3PZ6ZVGyC",
        "colab": {
          "base_uri": "https://localhost:8080/"
        },
        "outputId": "9e79f112-ce8a-4264-e225-9a09c488ea88"
      },
      "source": [
        "import sklearn\r\n",
        "print('The scikit-learn version is {}.'.format(sklearn.__version__))"
      ],
      "execution_count": null,
      "outputs": [
        {
          "output_type": "stream",
          "text": [
            "The scikit-learn version is 0.24.0.\n"
          ],
          "name": "stdout"
        }
      ]
    },
    {
      "cell_type": "code",
      "metadata": {
        "id": "pEEXCsVLIQis"
      },
      "source": [
        "import numpy as np\n",
        "import pandas as pd\n",
        "import matplotlib.pyplot as plt\n",
        "import seaborn as sns"
      ],
      "execution_count": null,
      "outputs": []
    },
    {
      "cell_type": "code",
      "metadata": {
        "colab": {
          "base_uri": "https://localhost:8080/"
        },
        "id": "iIievU8kMBjt",
        "outputId": "10248b69-6c99-442f-b82a-b4265e00634f"
      },
      "source": [
        "import csv\n",
        "import sys\n",
        "csv.field_size_limit(sys.maxsize)  #so as to increase the size of csv field\n",
        "train_data=pd.read_csv('/content/train.csv',engine='python',error_bad_lines=False)\n",
        "test_data=pd.read_csv('/content/test.csv')\n",
        "print(train_data)\n",
        "print(train_data.shape)"
      ],
      "execution_count": null,
      "outputs": [
        {
          "output_type": "stream",
          "text": [
            "          id  ... label\n",
            "0          0  ...     1\n",
            "1          1  ...     0\n",
            "2          2  ...     1\n",
            "3          3  ...     1\n",
            "4          4  ...     1\n",
            "...      ...  ...   ...\n",
            "20795  20795  ...     0\n",
            "20796  20796  ...     0\n",
            "20797  20797  ...     0\n",
            "20798  20798  ...     1\n",
            "20799  20799  ...     1\n",
            "\n",
            "[20800 rows x 5 columns]\n",
            "(20800, 5)\n"
          ],
          "name": "stdout"
        }
      ]
    },
    {
      "cell_type": "code",
      "metadata": {
        "colab": {
          "base_uri": "https://localhost:8080/"
        },
        "id": "-WKUXdjEgus-",
        "outputId": "dbf8ed7c-cd3e-4ed9-bcf2-5452bf4aa03c"
      },
      "source": [
        "train_data.isnull().sum()\n",
        "train_data=train_data.fillna('')\n",
        "train_data.isnull().sum()\n",
        "test_data.isnull().sum()\n",
        "test_data=test_data.fillna('')\n",
        "test_data.isnull().sum()"
      ],
      "execution_count": null,
      "outputs": [
        {
          "output_type": "execute_result",
          "data": {
            "text/plain": [
              "id        0\n",
              "title     0\n",
              "author    0\n",
              "text      0\n",
              "dtype: int64"
            ]
          },
          "metadata": {
            "tags": []
          },
          "execution_count": 62
        }
      ]
    },
    {
      "cell_type": "markdown",
      "metadata": {
        "id": "wcaO8wlVScn4"
      },
      "source": [
        "**Text preprocessing**"
      ]
    },
    {
      "cell_type": "code",
      "metadata": {
        "colab": {
          "base_uri": "https://localhost:8080/"
        },
        "id": "XT2kzGOBDlVL",
        "outputId": "d876f7f4-83ba-44fd-b054-c43490fbb0b9"
      },
      "source": [
        "#Remove punctuations\n",
        "import re\n",
        "import nltk\n",
        "nltk.download(\"punkt\") #Download punkt tokenizer\n",
        "nltk.download('stopwords')\n",
        "nltk.download('wordnet')\n",
        "from nltk.corpus import stopwords\n",
        "from nltk.stem import WordNetLemmatizer\n",
        "lemmatizer=WordNetLemmatizer()"
      ],
      "execution_count": null,
      "outputs": [
        {
          "output_type": "stream",
          "text": [
            "[nltk_data] Downloading package punkt to /root/nltk_data...\n",
            "[nltk_data]   Package punkt is already up-to-date!\n",
            "[nltk_data] Downloading package stopwords to /root/nltk_data...\n",
            "[nltk_data]   Package stopwords is already up-to-date!\n",
            "[nltk_data] Downloading package wordnet to /root/nltk_data...\n",
            "[nltk_data]   Package wordnet is already up-to-date!\n"
          ],
          "name": "stdout"
        }
      ]
    },
    {
      "cell_type": "code",
      "metadata": {
        "id": "BNqB99j5Ped3"
      },
      "source": [
        "\n",
        "stop_words=stopwords.words('english')\n",
        "for rows in range(0,20800,1):\n",
        "     tokens=''\n",
        "     sentence=train_data.loc[rows,'title']\n",
        "     sentence=re.sub(r'[^\\w\\s]','',sentence)   #Remove punctuations \n",
        "     words =  nltk.word_tokenize(sentence) #Tokenize words and remove non-letters\n",
        "     words=[w for w in words if not w in stop_words] #Remove stop words\n",
        "     for w in words:\n",
        "        tokens=tokens+' '+str(lemmatizer.lemmatize(w)).lower() #Lemmatization\n",
        "     train_data.loc[rows,'total']=tokens  #Make a column for the processed words of title column"
      ],
      "execution_count": null,
      "outputs": []
    },
    {
      "cell_type": "code",
      "metadata": {
        "colab": {
          "base_uri": "https://localhost:8080/",
          "height": 402
        },
        "id": "BSeBD9_JGgET",
        "outputId": "11e781c4-7796-42fb-89fe-840373d21d57"
      },
      "source": [
        "train_data=train_data.iloc[:,4:6]\n",
        "train_data"
      ],
      "execution_count": null,
      "outputs": [
        {
          "output_type": "execute_result",
          "data": {
            "text/html": [
              "<div>\n",
              "<style scoped>\n",
              "    .dataframe tbody tr th:only-of-type {\n",
              "        vertical-align: middle;\n",
              "    }\n",
              "\n",
              "    .dataframe tbody tr th {\n",
              "        vertical-align: top;\n",
              "    }\n",
              "\n",
              "    .dataframe thead th {\n",
              "        text-align: right;\n",
              "    }\n",
              "</style>\n",
              "<table border=\"1\" class=\"dataframe\">\n",
              "  <thead>\n",
              "    <tr style=\"text-align: right;\">\n",
              "      <th></th>\n",
              "      <th>label</th>\n",
              "      <th>total</th>\n",
              "    </tr>\n",
              "  </thead>\n",
              "  <tbody>\n",
              "    <tr>\n",
              "      <th>0</th>\n",
              "      <td>1</td>\n",
              "      <td>house dem aide we didnt even see comeys lette...</td>\n",
              "    </tr>\n",
              "    <tr>\n",
              "      <th>1</th>\n",
              "      <td>0</td>\n",
              "      <td>flynn hillary clinton big woman campus breitbart</td>\n",
              "    </tr>\n",
              "    <tr>\n",
              "      <th>2</th>\n",
              "      <td>1</td>\n",
              "      <td>why truth might get you fired</td>\n",
              "    </tr>\n",
              "    <tr>\n",
              "      <th>3</th>\n",
              "      <td>1</td>\n",
              "      <td>15 civilians killed in single us airstrike ha...</td>\n",
              "    </tr>\n",
              "    <tr>\n",
              "      <th>4</th>\n",
              "      <td>1</td>\n",
              "      <td>iranian woman jailed fictional unpublished st...</td>\n",
              "    </tr>\n",
              "    <tr>\n",
              "      <th>...</th>\n",
              "      <td>...</td>\n",
              "      <td>...</td>\n",
              "    </tr>\n",
              "    <tr>\n",
              "      <th>20795</th>\n",
              "      <td>0</td>\n",
              "      <td>rapper ti trump poster child for white supremacy</td>\n",
              "    </tr>\n",
              "    <tr>\n",
              "      <th>20796</th>\n",
              "      <td>0</td>\n",
              "      <td>nfl playoffs schedule matchups odds the new y...</td>\n",
              "    </tr>\n",
              "    <tr>\n",
              "      <th>20797</th>\n",
              "      <td>0</td>\n",
              "      <td>macys is said receive takeover approach hudso...</td>\n",
              "    </tr>\n",
              "    <tr>\n",
              "      <th>20798</th>\n",
              "      <td>1</td>\n",
              "      <td>nato russia to hold parallel exercises in bal...</td>\n",
              "    </tr>\n",
              "    <tr>\n",
              "      <th>20799</th>\n",
              "      <td>1</td>\n",
              "      <td>what keeps f35 alive</td>\n",
              "    </tr>\n",
              "  </tbody>\n",
              "</table>\n",
              "<p>20800 rows × 2 columns</p>\n",
              "</div>"
            ],
            "text/plain": [
              "       label                                              total\n",
              "0          1   house dem aide we didnt even see comeys lette...\n",
              "1          0   flynn hillary clinton big woman campus breitbart\n",
              "2          1                      why truth might get you fired\n",
              "3          1   15 civilians killed in single us airstrike ha...\n",
              "4          1   iranian woman jailed fictional unpublished st...\n",
              "...      ...                                                ...\n",
              "20795      0   rapper ti trump poster child for white supremacy\n",
              "20796      0   nfl playoffs schedule matchups odds the new y...\n",
              "20797      0   macys is said receive takeover approach hudso...\n",
              "20798      1   nato russia to hold parallel exercises in bal...\n",
              "20799      1                               what keeps f35 alive\n",
              "\n",
              "[20800 rows x 2 columns]"
            ]
          },
          "metadata": {
            "tags": []
          },
          "execution_count": 65
        }
      ]
    },
    {
      "cell_type": "code",
      "metadata": {
        "colab": {
          "base_uri": "https://localhost:8080/"
        },
        "id": "rAT7OcG7ApcT",
        "outputId": "36aa6235-1114-4437-a9b1-00ea4dc8548c"
      },
      "source": [
        "X=train_data.iloc[:,1]\n",
        "Y=train_data.iloc[:,0]\n",
        "print(X)\n",
        "print(Y)"
      ],
      "execution_count": null,
      "outputs": [
        {
          "output_type": "stream",
          "text": [
            "0         house dem aide we didnt even see comeys lette...\n",
            "1         flynn hillary clinton big woman campus breitbart\n",
            "2                            why truth might get you fired\n",
            "3         15 civilians killed in single us airstrike ha...\n",
            "4         iranian woman jailed fictional unpublished st...\n",
            "                               ...                        \n",
            "20795     rapper ti trump poster child for white supremacy\n",
            "20796     nfl playoffs schedule matchups odds the new y...\n",
            "20797     macys is said receive takeover approach hudso...\n",
            "20798     nato russia to hold parallel exercises in bal...\n",
            "20799                                 what keeps f35 alive\n",
            "Name: total, Length: 20800, dtype: object\n",
            "0        1\n",
            "1        0\n",
            "2        1\n",
            "3        1\n",
            "4        1\n",
            "        ..\n",
            "20795    0\n",
            "20796    0\n",
            "20797    0\n",
            "20798    1\n",
            "20799    1\n",
            "Name: label, Length: 20800, dtype: int64\n"
          ],
          "name": "stdout"
        }
      ]
    },
    {
      "cell_type": "code",
      "metadata": {
        "colab": {
          "base_uri": "https://localhost:8080/"
        },
        "id": "2RjKfmiCfxQP",
        "outputId": "9988a77f-3d90-47f1-a907-edefc0d63971"
      },
      "source": [
        "X_spare=train_data.iloc[:,1]\r\n",
        "X_spare\r\n"
      ],
      "execution_count": null,
      "outputs": [
        {
          "output_type": "execute_result",
          "data": {
            "text/plain": [
              "0         house dem aide we didnt even see comeys lette...\n",
              "1         flynn hillary clinton big woman campus breitbart\n",
              "2                            why truth might get you fired\n",
              "3         15 civilians killed in single us airstrike ha...\n",
              "4         iranian woman jailed fictional unpublished st...\n",
              "                               ...                        \n",
              "20795     rapper ti trump poster child for white supremacy\n",
              "20796     nfl playoffs schedule matchups odds the new y...\n",
              "20797     macys is said receive takeover approach hudso...\n",
              "20798     nato russia to hold parallel exercises in bal...\n",
              "20799                                 what keeps f35 alive\n",
              "Name: total, Length: 20800, dtype: object"
            ]
          },
          "metadata": {
            "tags": []
          },
          "execution_count": 67
        }
      ]
    },
    {
      "cell_type": "markdown",
      "metadata": {
        "id": "zZraJvdM_p5e"
      },
      "source": [
        "**Applying NLP techniques**"
      ]
    },
    {
      "cell_type": "code",
      "metadata": {
        "id": "S_4h8Kohlfqj"
      },
      "source": [
        "from sklearn.feature_extraction.text import TfidfTransformer\n",
        "from sklearn.feature_extraction.text import TfidfVectorizer\n",
        "from sklearn.feature_extraction.text import CountVectorizer"
      ],
      "execution_count": null,
      "outputs": []
    },
    {
      "cell_type": "code",
      "metadata": {
        "id": "a7QJCEh0X047"
      },
      "source": [
        "count_vectorizer=CountVectorizer()\n",
        "count_vectorizer.fit_transform(X)\n",
        "freq_term_matrix=count_vectorizer.transform(X)\n",
        "tfidf=TfidfTransformer(norm=\"l2\")\n",
        "tfidf.fit(freq_term_matrix)\n",
        "tf_idf_matrix=tfidf.fit_transform(freq_term_matrix)"
      ],
      "execution_count": null,
      "outputs": []
    },
    {
      "cell_type": "code",
      "metadata": {
        "colab": {
          "base_uri": "https://localhost:8080/"
        },
        "id": "DeskV4t_bh3e",
        "outputId": "6a846a03-0abe-4134-c0d8-e1a1a4d691f1"
      },
      "source": [
        "tf_idf_matrix.toarray().shape"
      ],
      "execution_count": null,
      "outputs": [
        {
          "output_type": "execute_result",
          "data": {
            "text/plain": [
              "(20800, 24653)"
            ]
          },
          "metadata": {
            "tags": []
          },
          "execution_count": 70
        }
      ]
    },
    {
      "cell_type": "markdown",
      "metadata": {
        "id": "y2F2nEciu_C4"
      },
      "source": [
        "**Test set**"
      ]
    },
    {
      "cell_type": "code",
      "metadata": {
        "colab": {
          "base_uri": "https://localhost:8080/"
        },
        "id": "v77x_TQS4o4X",
        "outputId": "039c0627-46c6-45b8-ece1-97aeef2e7139"
      },
      "source": [
        "test_data.shape"
      ],
      "execution_count": null,
      "outputs": [
        {
          "output_type": "execute_result",
          "data": {
            "text/plain": [
              "(5200, 4)"
            ]
          },
          "metadata": {
            "tags": []
          },
          "execution_count": 71
        }
      ]
    },
    {
      "cell_type": "code",
      "metadata": {
        "id": "SjzQ-aOT4k1d"
      },
      "source": [
        "stop_words=stopwords.words('english')\n",
        "for rows in range(0,5200,1):\n",
        "     tokens=''\n",
        "     sentence=test_data.loc[rows,'title']\n",
        "     sentence=re.sub(r'[^\\w\\s]','',sentence)   #Remove punctuations \n",
        "     words =  nltk.word_tokenize(sentence) #Tokenize words and remove non-letters\n",
        "     words=[w for w in words if not w in stop_words] #Remove stop words\n",
        "     for w in words:\n",
        "        tokens=tokens+' '+str(lemmatizer.lemmatize(w)).lower() #Lemmatization\n",
        "     test_data.loc[rows,'total']=tokens  #Make a column for the processed words of title column"
      ],
      "execution_count": null,
      "outputs": []
    },
    {
      "cell_type": "code",
      "metadata": {
        "id": "1V8oSL6qDXco"
      },
      "source": [
        "from sklearn.model_selection import train_test_split\n",
        "X_train,X_test,Y_train,Y_test=train_test_split(tf_idf_matrix,Y,test_size=0.2,random_state=0)\n"
      ],
      "execution_count": null,
      "outputs": []
    },
    {
      "cell_type": "markdown",
      "metadata": {
        "id": "eTJ712YC7cLh"
      },
      "source": [
        "**Modelling**"
      ]
    },
    {
      "cell_type": "code",
      "metadata": {
        "id": "A7BPs-1ahAHD",
        "colab": {
          "base_uri": "https://localhost:8080/",
          "height": 434
        },
        "outputId": "06a87570-3464-4361-f477-886eb9ba5a36"
      },
      "source": [
        "from sklearn.linear_model import LogisticRegression\n",
        "from sklearn.metrics import r2_score\n",
        "from sklearn.metrics import confusion_matrix\n",
        "regressor=LogisticRegression(C=1e5)\n",
        "regressor.fit(X_train,Y_train)\n",
        "y_pred=regressor.predict(X_test)\n",
        "accuracy=r2_score(Y_test,y_pred)\n",
        "print(accuracy)\n",
        "cm=confusion_matrix(Y_test,y_pred)\n",
        "sns.heatmap(cm,annot=True)"
      ],
      "execution_count": null,
      "outputs": [
        {
          "output_type": "stream",
          "text": [
            "0.7710926828636719\n"
          ],
          "name": "stdout"
        },
        {
          "output_type": "stream",
          "text": [
            "/usr/local/lib/python3.6/dist-packages/sklearn/linear_model/_logistic.py:765: ConvergenceWarning: lbfgs failed to converge (status=1):\n",
            "STOP: TOTAL NO. of ITERATIONS REACHED LIMIT.\n",
            "\n",
            "Increase the number of iterations (max_iter) or scale the data as shown in:\n",
            "    https://scikit-learn.org/stable/modules/preprocessing.html\n",
            "Please also refer to the documentation for alternative solver options:\n",
            "    https://scikit-learn.org/stable/modules/linear_model.html#logistic-regression\n",
            "  extra_warning_msg=_LOGISTIC_SOLVER_CONVERGENCE_MSG)\n"
          ],
          "name": "stderr"
        },
        {
          "output_type": "execute_result",
          "data": {
            "text/plain": [
              "<matplotlib.axes._subplots.AxesSubplot at 0x7f66f063a400>"
            ]
          },
          "metadata": {
            "tags": []
          },
          "execution_count": 74
        },
        {
          "output_type": "display_data",
          "data": {
            "image/png": "[encoded data removed]",
            "text/plain": [
              "<Figure size 432x288 with 2 Axes>"
            ]
          },
          "metadata": {
            "tags": [],
            "needs_background": "light"
          }
        }
      ]
    },
    {
      "cell_type": "code",
      "metadata": {
        "id": "_O1iubCrJGhf"
      },
      "source": [
        "test_counts=count_vectorizer.transform(test_data['total'].values)\n",
        "test_tfidf=tfidf.transform(test_counts)"
      ],
      "execution_count": null,
      "outputs": []
    },
    {
      "cell_type": "code",
      "metadata": {
        "id": "z0t8pa4lEGn4"
      },
      "source": [
        "y_total_pred=regressor.predict(test_tfidf)\n",
        "y_total_pred=pd.DataFrame(y_total_pred)\n",
        "y_total_pred.columns=['Labels'] #To add header name"
      ],
      "execution_count": null,
      "outputs": []
    },
    {
      "cell_type": "code",
      "metadata": {
        "id": "apy8RWcqS50n",
        "colab": {
          "base_uri": "https://localhost:8080/",
          "height": 402
        },
        "outputId": "ef00e852-4dbb-425f-9126-2aa4e1ba040e"
      },
      "source": [
        "y_total_pred"
      ],
      "execution_count": null,
      "outputs": [
        {
          "output_type": "execute_result",
          "data": {
            "text/html": [
              "<div>\n",
              "<style scoped>\n",
              "    .dataframe tbody tr th:only-of-type {\n",
              "        vertical-align: middle;\n",
              "    }\n",
              "\n",
              "    .dataframe tbody tr th {\n",
              "        vertical-align: top;\n",
              "    }\n",
              "\n",
              "    .dataframe thead th {\n",
              "        text-align: right;\n",
              "    }\n",
              "</style>\n",
              "<table border=\"1\" class=\"dataframe\">\n",
              "  <thead>\n",
              "    <tr style=\"text-align: right;\">\n",
              "      <th></th>\n",
              "      <th>Labels</th>\n",
              "    </tr>\n",
              "  </thead>\n",
              "  <tbody>\n",
              "    <tr>\n",
              "      <th>0</th>\n",
              "      <td>0</td>\n",
              "    </tr>\n",
              "    <tr>\n",
              "      <th>1</th>\n",
              "      <td>1</td>\n",
              "    </tr>\n",
              "    <tr>\n",
              "      <th>2</th>\n",
              "      <td>1</td>\n",
              "    </tr>\n",
              "    <tr>\n",
              "      <th>3</th>\n",
              "      <td>0</td>\n",
              "    </tr>\n",
              "    <tr>\n",
              "      <th>4</th>\n",
              "      <td>0</td>\n",
              "    </tr>\n",
              "    <tr>\n",
              "      <th>...</th>\n",
              "      <td>...</td>\n",
              "    </tr>\n",
              "    <tr>\n",
              "      <th>5195</th>\n",
              "      <td>0</td>\n",
              "    </tr>\n",
              "    <tr>\n",
              "      <th>5196</th>\n",
              "      <td>0</td>\n",
              "    </tr>\n",
              "    <tr>\n",
              "      <th>5197</th>\n",
              "      <td>0</td>\n",
              "    </tr>\n",
              "    <tr>\n",
              "      <th>5198</th>\n",
              "      <td>1</td>\n",
              "    </tr>\n",
              "    <tr>\n",
              "      <th>5199</th>\n",
              "      <td>0</td>\n",
              "    </tr>\n",
              "  </tbody>\n",
              "</table>\n",
              "<p>5200 rows × 1 columns</p>\n",
              "</div>"
            ],
            "text/plain": [
              "      Labels\n",
              "0          0\n",
              "1          1\n",
              "2          1\n",
              "3          0\n",
              "4          0\n",
              "...      ...\n",
              "5195       0\n",
              "5196       0\n",
              "5197       0\n",
              "5198       1\n",
              "5199       0\n",
              "\n",
              "[5200 rows x 1 columns]"
            ]
          },
          "metadata": {
            "tags": []
          },
          "execution_count": 77
        }
      ]
    },
    {
      "cell_type": "code",
      "metadata": {
        "id": "YcfnYWy1WJvZ"
      },
      "source": [
        "y_total_pred.to_csv('submission.csv',index=False)"
      ],
      "execution_count": null,
      "outputs": []
    },
    {
      "cell_type": "markdown",
      "metadata": {
        "id": "MQ2_D67Cjsoe"
      },
      "source": [
        "**Pipeline**"
      ]
    },
    {
      "cell_type": "code",
      "metadata": {
        "id": "AF-cb28lYxpp"
      },
      "source": [
        "from sklearn.pipeline import Pipeline\n",
        "import joblib\n",
        "from sklearn import linear_model"
      ],
      "execution_count": null,
      "outputs": []
    },
    {
      "cell_type": "code",
      "metadata": {
        "id": "Gr1SpTVMkb_-"
      },
      "source": [
        "pipeline = Pipeline([\r\n",
        "    ('vect', CountVectorizer()),\r\n",
        "    ('tfidf', TfidfTransformer(norm='l2')),\r\n",
        "    ('clf', linear_model.LogisticRegression(C=1e5)),\r\n",
        "])"
      ],
      "execution_count": null,
      "outputs": []
    },
    {
      "cell_type": "code",
      "metadata": {
        "id": "fZ2qrGXTnaWs",
        "colab": {
          "base_uri": "https://localhost:8080/"
        },
        "outputId": "e78bcd3b-10fa-4e97-86a6-fcbf347235cb"
      },
      "source": [
        "pipeline.fit(X_spare,Y)"
      ],
      "execution_count": null,
      "outputs": [
        {
          "output_type": "stream",
          "text": [
            "/usr/local/lib/python3.6/dist-packages/sklearn/linear_model/_logistic.py:765: ConvergenceWarning: lbfgs failed to converge (status=1):\n",
            "STOP: TOTAL NO. of ITERATIONS REACHED LIMIT.\n",
            "\n",
            "Increase the number of iterations (max_iter) or scale the data as shown in:\n",
            "    https://scikit-learn.org/stable/modules/preprocessing.html\n",
            "Please also refer to the documentation for alternative solver options:\n",
            "    https://scikit-learn.org/stable/modules/linear_model.html#logistic-regression\n",
            "  extra_warning_msg=_LOGISTIC_SOLVER_CONVERGENCE_MSG)\n"
          ],
          "name": "stderr"
        },
        {
          "output_type": "execute_result",
          "data": {
            "text/plain": [
              "Pipeline(steps=[('vect', CountVectorizer()), ('tfidf', TfidfTransformer()),\n",
              "                ('clf', LogisticRegression(C=100000.0))])"
            ]
          },
          "metadata": {
            "tags": []
          },
          "execution_count": 83
        }
      ]
    },
    {
      "cell_type": "code",
      "metadata": {
        "colab": {
          "base_uri": "https://localhost:8080/"
        },
        "id": "lR9YvDGKl372",
        "outputId": "0bec9dec-c4b6-40a4-b14e-34aeb5c8417c"
      },
      "source": [
        "pipeline.predict([\"flynn hillary clinton big woman campus breitbart daniel j flynnever get feeling life circle roundabout rather head straight line toward intended destination hillary clinton remains big woman campus leafy liberal wellesley massachusetts everywhere else vote likely inauguration dress remainder day way miss havisham forever wore wedding dress speaking great expectations hillary rodham overflowed 48 year ago first addressed wellesley graduating class the president college informed gathered 1969 student needed debate far i could ascertain spokesman kind like democratic primary 2016 minus term unknown even seven sisters school i glad miss adams made clear i speaking today u 400 u miss rodham told classmate after appointing edger bergen charlie mccarthys mortimer snerds attendance bespectacled granny glass awarding matronly wisdom least john lennon wisdom took issue previous speaker despite becoming first win election seat u s senate since reconstruction edward brooke came criticism calling empathy goal protestors criticized tactic though clinton senior thesis saul alinsky lamented black power demagogue elitist arrogance repressive intolerance within new left similar word coming republican necessitated brief rebuttal trust rodham ironically observed 1969 one word i asked class rehearsal wanted say everyone came said talk trust talk lack trust u way feel others talk trust bust what say what say feeling permeates generation perhaps even understood distrusted the trust bust certainly busted clintons 2016 plan she certainly even understand people distrusted after whitewater travelgate vast conspiracy benghazi missing email clinton found distrusted voice friday there load compromising road broadening political horizon and distrust american people trump edged 48 percent 38 percent question immediately prior novembers election stood major reason closing horizon clinton described vanquisher supporter embracing lie con alternative fact assault truth reason she failed explain american people chose lie truth as history major among today know well people power invent fact attack question mark beginning end free society offered that hyperbole like many people emerge 1960s hillary clinton embarked upon long strange trip from high school goldwater girl wellesley college republican president democratic politician clinton drank time place gave degree more significantly went idealist cynic comparison two wellesley commencement address show way back lamented long leader viewed politics art possible challenge practice politics art making appears impossible possible now big woman campus odd woman white house wonder current station even possible why arent i 50 point ahead asked september in may asks isnt president the woman famously dubbed congenital liar bill safire concludes lie mind getting stood election day like finding jilted bride wedding day inspires dangerous delusion\"])"
      ],
      "execution_count": null,
      "outputs": [
        {
          "output_type": "execute_result",
          "data": {
            "text/plain": [
              "array([1])"
            ]
          },
          "metadata": {
            "tags": []
          },
          "execution_count": 85
        }
      ]
    },
    {
      "cell_type": "code",
      "metadata": {
        "id": "rnFeC7Nlnf-U",
        "colab": {
          "base_uri": "https://localhost:8080/"
        },
        "outputId": "d4d154cf-e185-4763-8c62-af331cca954e"
      },
      "source": [
        "filename='pipeline.sav'\n",
        "joblib.dump(pipeline,filename)"
      ],
      "execution_count": null,
      "outputs": [
        {
          "output_type": "execute_result",
          "data": {
            "text/plain": [
              "['pipeline.sav']"
            ]
          },
          "metadata": {
            "tags": []
          },
          "execution_count": 86
        }
      ]
    },
    {
      "cell_type": "code",
      "metadata": {
        "id": "50PbhmNjV7zn"
      },
      "source": [
        "filename='./pipeline.sav'"
      ],
      "execution_count": null,
      "outputs": []
    },
    {
      "cell_type": "code",
      "metadata": {
        "id": "zr7pV4-mWFDE",
        "colab": {
          "base_uri": "https://localhost:8080/"
        },
        "outputId": "1fa1d049-3a88-4c98-9bac-190a4d7413e7"
      },
      "source": [
        "loaded_model=joblib.load(filename)\n",
        "result=loaded_model.predict\n",
        "result"
      ],
      "execution_count": null,
      "outputs": [
        {
          "output_type": "execute_result",
          "data": {
            "text/plain": [
              "<function sklearn.pipeline.Pipeline.predict>"
            ]
          },
          "metadata": {
            "tags": []
          },
          "execution_count": 88
        }
      ]
    }
  ]
}